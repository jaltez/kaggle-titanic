{
 "cells": [
  {
   "cell_type": "markdown",
   "metadata": {},
   "source": [
    "# Kaggle's Titanic dataset classification"
   ]
  },
  {
   "cell_type": "code",
   "execution_count": 1,
   "metadata": {},
   "outputs": [],
   "source": [
    "# Initialization & imports\n",
    "import sys, itertools\n",
    "import numpy as np\n",
    "import pandas as pd\n",
    "import seaborn as sns\n",
    "import matplotlib.pyplot as plt\n",
    "\n",
    "from sklearn.preprocessing import StandardScaler\n",
    "from sklearn.decomposition import PCA\n",
    "from sklearn.model_selection import train_test_split, GridSearchCV\n",
    "from sklearn.neighbors import KNeighborsClassifier, LocalOutlierFactor\n",
    "from sklearn.svm import SVC\n",
    "from sklearn.tree import DecisionTreeClassifier\n",
    "from sklearn.ensemble import RandomForestClassifier, AdaBoostClassifier, GradientBoostingClassifier\n",
    "from sklearn.naive_bayes import GaussianNB\n",
    "from sklearn.metrics import confusion_matrix\n",
    "\n",
    "from time import time\n",
    "\n",
    "from customhelpers import EstimatorSelectionHelper, plot_confusion_matrix\n",
    "\n",
    "from IPython.display import display, Markdown\n",
    "\n",
    "sys.path.append(\"../estimator\")"
   ]
  },
  {
   "cell_type": "code",
   "execution_count": 2,
   "metadata": {},
   "outputs": [],
   "source": [
    "# Pandas & seaborn config\n",
    "pd.set_option('display.height', 1000)\n",
    "pd.set_option('display.max_columns', 500)\n",
    "pd.set_option('display.width', 1000)\n",
    "pd.set_option('chained_assignment', None)\n",
    "\n",
    "sns.set(style=\"dark\", palette=\"hls\")"
   ]
  },
  {
   "cell_type": "code",
   "execution_count": 3,
   "metadata": {},
   "outputs": [],
   "source": [
    "# Config\n",
    "opt_generate_plots            = False\n",
    "opt_get_pca_features          = False\n",
    "opt_estimate_best_classifier  = False\n",
    "opt_remove_outliers           = False\n",
    "opt_find_best_random_state    = False\n",
    "opt_generate_confusion_matrix = True"
   ]
  },
  {
   "cell_type": "code",
   "execution_count": 4,
   "metadata": {},
   "outputs": [],
   "source": [
    "# Features & labels\n",
    "initial_features = ['Age', 'SibSp', 'Parch', 'Fare', 'Embarked', 'Pclass', 'Sex', 'Cabin', 'Ticket', 'Name']\n",
    "labels           = ['Survived']"
   ]
  },
  {
   "cell_type": "code",
   "execution_count": 5,
   "metadata": {},
   "outputs": [
    {
     "name": "stdout",
     "output_type": "stream",
     "text": [
      "Reading CSV...\n"
     ]
    }
   ],
   "source": [
    "# CSV Reading\n",
    "print \"Reading CSV...\"\n",
    "df = pd.read_csv(\"../data/input/train.csv\")"
   ]
  },
  {
   "cell_type": "code",
   "execution_count": 6,
   "metadata": {},
   "outputs": [
    {
     "data": {
      "text/markdown": [
       "## Data exploration"
      ],
      "text/plain": [
       "<IPython.core.display.Markdown object>"
      ]
     },
     "metadata": {},
     "output_type": "display_data"
    },
    {
     "data": {
      "text/markdown": [
       "### Info"
      ],
      "text/plain": [
       "<IPython.core.display.Markdown object>"
      ]
     },
     "metadata": {},
     "output_type": "display_data"
    },
    {
     "name": "stdout",
     "output_type": "stream",
     "text": [
      "<class 'pandas.core.frame.DataFrame'>\n",
      "RangeIndex: 891 entries, 0 to 890\n",
      "Data columns (total 12 columns):\n",
      "PassengerId    891 non-null int64\n",
      "Survived       891 non-null int64\n",
      "Pclass         891 non-null int64\n",
      "Name           891 non-null object\n",
      "Sex            891 non-null object\n",
      "Age            714 non-null float64\n",
      "SibSp          891 non-null int64\n",
      "Parch          891 non-null int64\n",
      "Ticket         891 non-null object\n",
      "Fare           891 non-null float64\n",
      "Cabin          204 non-null object\n",
      "Embarked       889 non-null object\n",
      "dtypes: float64(2), int64(5), object(5)\n",
      "memory usage: 83.6+ KB\n",
      "None\n"
     ]
    },
    {
     "data": {
      "text/markdown": [
       "### Describe"
      ],
      "text/plain": [
       "<IPython.core.display.Markdown object>"
      ]
     },
     "metadata": {},
     "output_type": "display_data"
    },
    {
     "name": "stdout",
     "output_type": "stream",
     "text": [
      "       PassengerId    Survived      Pclass         Age       SibSp       Parch        Fare\n",
      "count   891.000000  891.000000  891.000000  714.000000  891.000000  891.000000  891.000000\n",
      "mean    446.000000    0.383838    2.308642   29.699118    0.523008    0.381594   32.204208\n",
      "std     257.353842    0.486592    0.836071   14.526497    1.102743    0.806057   49.693429\n",
      "min       1.000000    0.000000    1.000000    0.420000    0.000000    0.000000    0.000000\n",
      "25%     223.500000    0.000000    2.000000   20.125000    0.000000    0.000000    7.910400\n",
      "50%     446.000000    0.000000    3.000000   28.000000    0.000000    0.000000   14.454200\n",
      "75%     668.500000    1.000000    3.000000   38.000000    1.000000    0.000000   31.000000\n",
      "max     891.000000    1.000000    3.000000   80.000000    8.000000    6.000000  512.329200\n"
     ]
    },
    {
     "data": {
      "text/markdown": [
       "### Sex counts"
      ],
      "text/plain": [
       "<IPython.core.display.Markdown object>"
      ]
     },
     "metadata": {},
     "output_type": "display_data"
    },
    {
     "name": "stdout",
     "output_type": "stream",
     "text": [
      "male      577\n",
      "female    314\n",
      "Name: Sex, dtype: int64\n"
     ]
    },
    {
     "data": {
      "text/markdown": [
       "### Cabin counts"
      ],
      "text/plain": [
       "<IPython.core.display.Markdown object>"
      ]
     },
     "metadata": {},
     "output_type": "display_data"
    },
    {
     "name": "stdout",
     "output_type": "stream",
     "text": [
      "C23 C25 C27    4\n",
      "G6             4\n",
      "B96 B98        4\n",
      "D              3\n",
      "C22 C26        3\n",
      "Name: Cabin, dtype: int64\n"
     ]
    },
    {
     "data": {
      "text/markdown": [
       "### Survived counts"
      ],
      "text/plain": [
       "<IPython.core.display.Markdown object>"
      ]
     },
     "metadata": {},
     "output_type": "display_data"
    },
    {
     "name": "stdout",
     "output_type": "stream",
     "text": [
      "0    549\n",
      "1    342\n",
      "Name: Survived, dtype: int64\n"
     ]
    },
    {
     "data": {
      "text/markdown": [
       "### Null counts"
      ],
      "text/plain": [
       "<IPython.core.display.Markdown object>"
      ]
     },
     "metadata": {},
     "output_type": "display_data"
    },
    {
     "name": "stdout",
     "output_type": "stream",
     "text": [
      "PassengerId      0\n",
      "Survived         0\n",
      "Pclass           0\n",
      "Name             0\n",
      "Sex              0\n",
      "Age            177\n",
      "SibSp            0\n",
      "Parch            0\n",
      "Ticket           0\n",
      "Fare             0\n",
      "Cabin          687\n",
      "Embarked         2\n",
      "dtype: int64\n"
     ]
    },
    {
     "data": {
      "text/markdown": [
       "### Correlation"
      ],
      "text/plain": [
       "<IPython.core.display.Markdown object>"
      ]
     },
     "metadata": {},
     "output_type": "display_data"
    },
    {
     "name": "stdout",
     "output_type": "stream",
     "text": [
      "             PassengerId  Survived    Pclass       Age     SibSp     Parch      Fare\n",
      "PassengerId     1.000000 -0.005007 -0.035144  0.036847 -0.057527 -0.001652  0.012658\n",
      "Survived       -0.005007  1.000000 -0.338481 -0.077221 -0.035322  0.081629  0.257307\n",
      "Pclass         -0.035144 -0.338481  1.000000 -0.369226  0.083081  0.018443 -0.549500\n",
      "Age             0.036847 -0.077221 -0.369226  1.000000 -0.308247 -0.189119  0.096067\n",
      "SibSp          -0.057527 -0.035322  0.083081 -0.308247  1.000000  0.414838  0.159651\n",
      "Parch          -0.001652  0.081629  0.018443 -0.189119  0.414838  1.000000  0.216225\n",
      "Fare            0.012658  0.257307 -0.549500  0.096067  0.159651  0.216225  1.000000\n"
     ]
    }
   ],
   "source": [
    "# Data exploration\n",
    "display(Markdown(\"## Data exploration\"))\n",
    "display(Markdown(\"### Info\"))\n",
    "print df.info()\n",
    "display(Markdown(\"### Describe\"))\n",
    "print df.describe()\n",
    "display(Markdown(\"### Sex counts\"))\n",
    "print df.Sex.value_counts()\n",
    "display(Markdown(\"### Cabin counts\"))\n",
    "print df.Cabin.value_counts().head()\n",
    "display(Markdown(\"### Survived counts\"))\n",
    "print df.Survived.value_counts().head()\n",
    "display(Markdown(\"### Null counts\"))\n",
    "print df.isnull().sum(axis=0)\n",
    "display(Markdown(\"### Correlation\"))\n",
    "print df.corr()"
   ]
  },
  {
   "cell_type": "code",
   "execution_count": 7,
   "metadata": {},
   "outputs": [
    {
     "data": {
      "image/png": "[encoded data removed]",
      "text/plain": [
       "<matplotlib.figure.Figure at 0xcaaab38>"
      ]
     },
     "metadata": {},
     "output_type": "display_data"
    }
   ],
   "source": [
    "# Histogram\n",
    "fig, axes = plt.subplots(2,3,figsize=(15,6))\n",
    "for ax, feature in itertools.izip_longest(axes.flatten(), ['Pclass', 'Age', 'SibSp', 'Parch', 'Fare']):\n",
    "    if(feature):\n",
    "        ax.hist(df.dropna()[feature])\n",
    "        ax.set_title(feature)"
   ]
  },
  {
   "cell_type": "code",
   "execution_count": 8,
   "metadata": {},
   "outputs": [],
   "source": [
    "# Plotting 1\n",
    "if(opt_generate_plots):\n",
    "    print \"\\n> Creating plots\"\n",
    "    fg = sns.FacetGrid(df, hue=\"Survived\", size=5, aspect=1.61)\n",
    "    fg.map(plt.scatter, \"Age\", \"Fare\")\n",
    "    fg.add_legend()\n",
    "    fg.savefig(\"../data/output/age_fare_survived.png\")\n",
    "\n",
    "    fg = sns.FacetGrid(df, hue=\"Pclass\", size=5, aspect=1.61)\n",
    "    fg.map(plt.scatter, \"Age\", \"Fare\")\n",
    "    fg.add_legend()\n",
    "    fg.savefig(\"../data/output/age_fare_pclass.png\")\n",
    "\n",
    "    # Boxplot\n",
    "    df[initial_features+labels].plot(kind='box', subplots=True, layout=(2, 5), figsize=(14, 12), sharex=False, sharey=False, sym=\"bo\")\n",
    "    plt.savefig(\"../data/output/univariate.png\")\n",
    "\n",
    "    # Pairplots\n",
    "    sns_plot = sns.pairplot(df[initial_features+labels].dropna(), size=5, hue=\"Survived\")\n",
    "    sns_plot.savefig(\"../data/output/pairplot.png\")\n",
    "    print \"Saved to file\""
   ]
  },
  {
   "cell_type": "code",
   "execution_count": 9,
   "metadata": {},
   "outputs": [],
   "source": [
    "def processDataFrame(df):\n",
    "\n",
    "    def processTicket(ticket):\n",
    "        ticket = ticket.split(' ')[-1]\n",
    "        return int(ticket) if ticket.isdigit() else 0\n",
    "\n",
    "    scale_features  = ['Age', 'SibSp', 'Parch', 'Fare', 'Ticket']\n",
    "    encode_features = ['Embarked','Pclass','Sex', 'Cabin', 'Name']# , 'Ticket'\n",
    "\n",
    "    # NaN filling\n",
    "    df['Age'].fillna(df['Age'].median(), inplace=True)\n",
    "    df['Cabin'].fillna('Unknown', inplace=True)\n",
    "    \n",
    "    # Feature editing\n",
    "    df['Cabin']  = df['Cabin'].apply(lambda x: x[0])\n",
    "    df['Name']   = df['Name'].apply(lambda x: x.split(',')[1].split('.')[0].strip())\n",
    "    df['Ticket'] = df['Ticket'].apply(processTicket)\n",
    "\n",
    "    # One-hot encoding\n",
    "    pre_features = df.columns.values\n",
    "    df = pd.get_dummies(df, columns=encode_features)\n",
    "    post_features = df.columns.values\n",
    "    diff_features = list(set(post_features) - set(pre_features))\n",
    "\n",
    "    # Drop other NaNs\n",
    "    print \"!!! Warning: eliminado de NaNs separado de labels puede dar lugar a mismatch de shape X/y\"\n",
    "    df = df.dropna()\n",
    "\n",
    "    # Standarization\n",
    "    scaler = StandardScaler()\n",
    "    df[scale_features+diff_features] = scaler.fit_transform(df[scale_features+diff_features].as_matrix())\n",
    "\n",
    "    # PCA\n",
    "    if(opt_get_pca_features):\n",
    "        pca = PCA(n_components=3)\n",
    "        components = pca.fit_transform(df)\n",
    "        df = pd.DataFrame(components, columns=[\"col\" + str(n) for n in xrange(pca.n_components_)])\n",
    "\n",
    "    return df"
   ]
  },
  {
   "cell_type": "code",
   "execution_count": 10,
   "metadata": {},
   "outputs": [
    {
     "name": "stdout",
     "output_type": "stream",
     "text": [
      "Processing DataFrame...\n",
      "!!! Warning: eliminado de NaNs separado de labels puede dar lugar a mismatch de shape X/y\n"
     ]
    }
   ],
   "source": [
    "# Preprocess\n",
    "print \"Processing DataFrame...\"\n",
    "X = processDataFrame(df[initial_features])\n",
    "y = df[labels]"
   ]
  },
  {
   "cell_type": "code",
   "execution_count": 11,
   "metadata": {},
   "outputs": [],
   "source": [
    "# Outlier removal\n",
    "if(opt_remove_outliers):\n",
    "    lof = LocalOutlierFactor(n_neighbors=5)\n",
    "    outliers = lof.fit_predict(X)\n",
    "    print \"Removing %i outliers\" % np.count_nonzero(outliers==-1)\n",
    "    X = X[outliers==1]\n",
    "    y = y[outliers==1]"
   ]
  },
  {
   "cell_type": "code",
   "execution_count": 12,
   "metadata": {},
   "outputs": [],
   "source": [
    "# Features & splitting\n",
    "features = X.columns.values\n",
    "X_train, X_test, y_train, y_test = train_test_split(X, y, test_size=0.20, random_state=42)"
   ]
  },
  {
   "cell_type": "code",
   "execution_count": 13,
   "metadata": {},
   "outputs": [],
   "source": [
    "# Estimation of best classifier and best parameters\n",
    "if(opt_estimate_best_classifier):\n",
    "    t0 = time()\n",
    "    print \"\\n> Estimation of best classifier and best parameters...\"\n",
    "\n",
    "    classifiers = {\n",
    "        'KNeighborsClassifier': KNeighborsClassifier(),\n",
    "        'SVC': SVC(),\n",
    "        'DecisionTreeClassifier': DecisionTreeClassifier(),\n",
    "        'RandomForestClassifier': RandomForestClassifier(),\n",
    "        'AdaBoostClassifier': AdaBoostClassifier(),\n",
    "        'GradientBoostingClassifier': GradientBoostingClassifier(),\n",
    "        'GaussianNB': GaussianNB()\n",
    "    }\n",
    "\n",
    "    hyperparameters = {\n",
    "        'KNeighborsClassifier': { 'n_neighbors': [2,5,10,15] },\n",
    "        'SVC': [\n",
    "            { 'kernel': ['linear'], 'C': [0.1, 1, 100, 1000], 'gamma': [0.0001, 0.001, 0.01, 0.1] },\n",
    "            { 'kernel': ['rbf'], 'C': [0.1, 1, 100, 1000], 'gamma': [0.0001, 0.001, 0.01, 0.1] },\n",
    "        ],\n",
    "        'DecisionTreeClassifier': { 'min_samples_split': [2,5,10,100] },\n",
    "        'RandomForestClassifier': { 'n_estimators': [16, 32, 64, 100, 200] },\n",
    "        'AdaBoostClassifier': { 'n_estimators': [32, 64, 100, 200], 'learning_rate': [0.8, 1.0] },\n",
    "        'GradientBoostingClassifier': { 'n_estimators': [32, 64, 100, 200], 'learning_rate': [0.8, 1.0] },\n",
    "        'GaussianNB': { }\n",
    "    }\n",
    "\n",
    "    estimator = EstimatorSelectionHelper(classifiers, hyperparameters)\n",
    "    estimator.fit(X_train, y_train.values.ravel(), scoring='accuracy', verbose=1)\n",
    "    print \"(done in %0.3fs)\" % (time() - t0)\n",
    "\n",
    "    print estimator.score_summary(sort_by='min_score')"
   ]
  },
  {
   "cell_type": "code",
   "execution_count": 14,
   "metadata": {},
   "outputs": [
    {
     "name": "stdout",
     "output_type": "stream",
     "text": [
      "Training classifier...\n",
      "Selected classifier accuracy: 0.8603351955307262\n"
     ]
    }
   ],
   "source": [
    "# Classifier training\n",
    "print \"Training classifier...\"\n",
    "\n",
    "if(opt_find_best_random_state):\n",
    "    for i in xrange(1,256):\n",
    "        clf = RandomForestClassifier(n_estimators=32, random_state=i)\n",
    "        clf.fit(X_train, y_train.values.ravel())\n",
    "        sco = clf.score(X_test, y_test)\n",
    "        if(sco > 0.85):\n",
    "            print \"Classifier accuracy random_state=%i:\" % i, sco\n",
    "\n",
    "clf = RandomForestClassifier(n_estimators=32, random_state=181) # Best accuracy: 0.860335195531\n",
    "clf.fit(X_train, y_train.values.ravel())\n",
    "print \"Selected classifier accuracy:\", clf.score(X_test, y_test)"
   ]
  },
  {
   "cell_type": "code",
   "execution_count": 15,
   "metadata": {},
   "outputs": [
    {
     "name": "stdout",
     "output_type": "stream",
     "text": [
      "Predicting from train data...\n",
      "Confusion matrix, without normalization\n",
      "[[444   0]\n",
      " [  2 266]]\n"
     ]
    },
    {
     "data": {
      "image/png": "[encoded data removed]",
      "text/plain": [
       "<matplotlib.figure.Figure at 0xd995cf8>"
      ]
     },
     "metadata": {},
     "output_type": "display_data"
    }
   ],
   "source": [
    "# Predict from train\n",
    "if(opt_generate_confusion_matrix):\n",
    "    print \"Predicting from train data...\"\n",
    "    y_pred = clf.predict(X_train)\n",
    "    cnf_matrix = confusion_matrix(y_train, y_pred)\n",
    "    plot_confusion_matrix(cnf_matrix, classes=['Survived','Not Survived'], title='Confusion matrix, without normalization')"
   ]
  },
  {
   "cell_type": "code",
   "execution_count": 16,
   "metadata": {},
   "outputs": [
    {
     "name": "stdout",
     "output_type": "stream",
     "text": [
      "Reading test CSV...\n"
     ]
    }
   ],
   "source": [
    "# Predicting new results\n",
    "print \"Reading test CSV...\"\n",
    "df_pred = pd.read_csv(\"../data/input/test.csv\")"
   ]
  },
  {
   "cell_type": "code",
   "execution_count": 17,
   "metadata": {},
   "outputs": [
    {
     "name": "stdout",
     "output_type": "stream",
     "text": [
      "!!! Warning: eliminado de NaNs separado de labels puede dar lugar a mismatch de shape X/y\n"
     ]
    }
   ],
   "source": [
    "# Preprocessing with feature diff & intersection\n",
    "X_pred = processDataFrame(df_pred[initial_features])\n",
    "pred_features = X_pred.columns.values\n",
    "features_to_add = [f for f in features if f not in pred_features]\n",
    "colvalues = dict.fromkeys(features_to_add, 0)\n",
    "X_pred = X_pred.assign(**colvalues)\n",
    "X_pred = X_pred[features]"
   ]
  },
  {
   "cell_type": "code",
   "execution_count": 18,
   "metadata": {},
   "outputs": [
    {
     "name": "stdout",
     "output_type": "stream",
     "text": [
      "[0 1 0 0 1 0 0 0 1 0 0 0 1 0 1 1 0 0 1 1 0 1 1 0 1 0 1 0 0 0 0 0 1 0 0 0 1\n",
      " 0 0 0 0 0 0 1 1 0 0 0 1 1 0 0 1 1 0 0 0 0 0 1 0 0 0 1 1 1 1 0 1 1 0 0 1 0\n",
      " 1 0 0 1 0 0 1 0 0 0 0 0 0 1 1 1 1 0 1 0 0 0 1 0 1 0 1 0 0 0 1 0 0 0 0 0 0\n",
      " 0 1 0 1 0 0 1 0 1 1 0 1 0 0 1 0 1 0 0 0 0 1 0 0 0 0 0 1 0 0 1 0 0 0 0 1 0\n",
      " 0 0 1 0 1 0 0 1 1 0 1 0 1 1 0 0 1 0 0 1 0 0 0 0 0 0 1 1 0 1 1 0 0 1 0 1 0\n",
      " 1 0 0 0 0 0 1 0 1 0 1 1 0 0 1 1 0 1 0 0 1 0 1 0 0 0 0 1 1 0 0 0 1 0 1 0 1\n",
      " 0 1 0 0 0 0 0 0 1 0 0 0 0 0 0 1 1 1 1 0 0 1 0 1 0 1 1 1 0 0 0 0 0 0 0 1 0\n",
      " 0 0 1 1 0 0 0 0 1 0 0 0 1 1 0 1 0 0 0 0 0 1 0 1 1 0 0 0 0 0 0 0 0 0 0 0 1\n",
      " 0 0 0 0 0 0 0 0 1 0 1 0 1 0 0 0 0 1 1 0 0 0 0 0 0 0 0 1 0 1 0 0 0 1 0 0 1\n",
      " 0 0 0 0 0 1 0 0 0 1 1 1 0 1 0 1 1 0 0 0 1 1 1 0 0 1 0 1 1 0 1 0 0 0 1 0 0\n",
      " 1 0 0 1 1 0 0 0 0 0 0 1 1 0 1 0 0 0 0 0 1 1 0 0 1 0 1 0 0 1 0 1 0 0 1 0 0\n",
      " 0 1 0 1 1 0 1 0 0 1]\n",
      "[[0.78125   0.21875  ]\n",
      " [0.375     0.625    ]\n",
      " [0.78125   0.21875  ]\n",
      " [0.65625   0.34375  ]\n",
      " [0.21875   0.78125  ]\n",
      " [0.90625   0.09375  ]\n",
      " [0.625     0.375    ]\n",
      " [1.        0.       ]\n",
      " [0.15625   0.84375  ]\n",
      " [0.96875   0.03125  ]\n",
      " [0.71875   0.28125  ]\n",
      " [0.625     0.375    ]\n",
      " [0.        1.       ]\n",
      " [0.9375    0.0625   ]\n",
      " [0.        1.       ]\n",
      " [0.03125   0.96875  ]\n",
      " [0.9375    0.0625   ]\n",
      " [0.71875   0.28125  ]\n",
      " [0.28125   0.71875  ]\n",
      " [0.21875   0.78125  ]\n",
      " [0.90625   0.09375  ]\n",
      " [0.21875   0.78125  ]\n",
      " [0.125     0.875    ]\n",
      " [0.875     0.125    ]\n",
      " [0.0625    0.9375   ]\n",
      " [1.        0.       ]\n",
      " [0.09375   0.90625  ]\n",
      " [0.78125   0.21875  ]\n",
      " [0.8125    0.1875   ]\n",
      " [0.6875    0.3125   ]\n",
      " [0.96875   0.03125  ]\n",
      " [0.9375    0.0625   ]\n",
      " [0.34375   0.65625  ]\n",
      " [0.53125   0.46875  ]\n",
      " [0.75      0.25     ]\n",
      " [0.71875   0.28125  ]\n",
      " [0.28125   0.71875  ]\n",
      " [0.78125   0.21875  ]\n",
      " [0.875     0.125    ]\n",
      " [0.6609375 0.3390625]\n",
      " [0.875     0.125    ]\n",
      " [0.625     0.375    ]\n",
      " [0.9375    0.0625   ]\n",
      " [0.03125   0.96875  ]\n",
      " [0.        1.       ]\n",
      " [0.9375    0.0625   ]\n",
      " [0.8125    0.1875   ]\n",
      " [0.96875   0.03125  ]\n",
      " [0.03125   0.96875  ]\n",
      " [0.28125   0.71875  ]\n",
      " [0.71875   0.28125  ]\n",
      " [0.59375   0.40625  ]\n",
      " [0.0625    0.9375   ]\n",
      " [0.0625    0.9375   ]\n",
      " [0.59375   0.40625  ]\n",
      " [1.        0.       ]\n",
      " [0.84375   0.15625  ]\n",
      " [0.9375    0.0625   ]\n",
      " [0.9375    0.0625   ]\n",
      " [0.        1.       ]\n",
      " [0.6875    0.3125   ]\n",
      " [0.96875   0.03125  ]\n",
      " [0.84375   0.15625  ]\n",
      " [0.40625   0.59375  ]\n",
      " [0.21875   0.78125  ]\n",
      " [0.09375   0.90625  ]\n",
      " [0.46875   0.53125  ]\n",
      " [0.8125    0.1875   ]\n",
      " [0.46875   0.53125  ]\n",
      " [0.15625   0.84375  ]\n",
      " [0.5       0.5      ]\n",
      " [0.84375   0.15625  ]\n",
      " [0.25      0.75     ]\n",
      " [0.5625    0.4375   ]\n",
      " [0.125     0.875    ]\n",
      " [0.875     0.125    ]\n",
      " [0.625     0.375    ]\n",
      " [0.09375   0.90625  ]\n",
      " [0.8125    0.1875   ]\n",
      " [0.5       0.5      ]\n",
      " [0.15625   0.84375  ]\n",
      " [0.84375   0.15625  ]\n",
      " [0.5625    0.4375   ]\n",
      " [0.71875   0.28125  ]\n",
      " [0.875     0.125    ]\n",
      " [0.90625   0.09375  ]\n",
      " [0.65625   0.34375  ]\n",
      " [0.3125    0.6875   ]\n",
      " [0.46875   0.53125  ]\n",
      " [0.        1.       ]\n",
      " [0.15625   0.84375  ]\n",
      " [0.75      0.25     ]\n",
      " [0.125     0.875    ]\n",
      " [0.625     0.375    ]\n",
      " [0.875     0.125    ]\n",
      " [0.96875   0.03125  ]\n",
      " [0.03125   0.96875  ]\n",
      " [0.84375   0.15625  ]\n",
      " [0.15625   0.84375  ]\n",
      " [0.9375    0.0625   ]\n",
      " [0.        1.       ]\n",
      " [0.90625   0.09375  ]\n",
      " [0.96875   0.03125  ]\n",
      " [0.9375    0.0625   ]\n",
      " [0.28125   0.71875  ]\n",
      " [0.90625   0.09375  ]\n",
      " [0.90625   0.09375  ]\n",
      " [0.96875   0.03125  ]\n",
      " [0.59375   0.40625  ]\n",
      " [0.71875   0.28125  ]\n",
      " [0.71875   0.28125  ]\n",
      " [0.65625   0.34375  ]\n",
      " [0.1875    0.8125   ]\n",
      " [0.5625    0.4375   ]\n",
      " [0.0625    0.9375   ]\n",
      " [0.90625   0.09375  ]\n",
      " [0.84375   0.15625  ]\n",
      " [0.34375   0.65625  ]\n",
      " [0.8125    0.1875   ]\n",
      " [0.        1.       ]\n",
      " [0.0625    0.9375   ]\n",
      " [0.96875   0.03125  ]\n",
      " [0.        1.       ]\n",
      " [0.875     0.125    ]\n",
      " [0.96875   0.03125  ]\n",
      " [0.34375   0.65625  ]\n",
      " [0.96875   0.03125  ]\n",
      " [0.21875   0.78125  ]\n",
      " [0.8125    0.1875   ]\n",
      " [0.90625   0.09375  ]\n",
      " [0.59375   0.40625  ]\n",
      " [0.6875    0.3125   ]\n",
      " [0.46875   0.53125  ]\n",
      " [0.875     0.125    ]\n",
      " [0.78125   0.21875  ]\n",
      " [0.96875   0.03125  ]\n",
      " [0.875     0.125    ]\n",
      " [0.84375   0.15625  ]\n",
      " [0.40625   0.59375  ]\n",
      " [1.        0.       ]\n",
      " [0.75      0.25     ]\n",
      " [0.09375   0.90625  ]\n",
      " [0.53125   0.46875  ]\n",
      " [0.84375   0.15625  ]\n",
      " [0.59375   0.40625  ]\n",
      " [0.84375   0.15625  ]\n",
      " [0.375     0.625    ]\n",
      " [1.        0.       ]\n",
      " [0.65625   0.34375  ]\n",
      " [0.78125   0.21875  ]\n",
      " [0.        1.       ]\n",
      " [0.9375    0.0625   ]\n",
      " [0.21875   0.78125  ]\n",
      " [0.9375    0.0625   ]\n",
      " [0.5       0.5      ]\n",
      " [0.03125   0.96875  ]\n",
      " [0.25      0.75     ]\n",
      " [0.625     0.375    ]\n",
      " [0.15625   0.84375  ]\n",
      " [0.65625   0.34375  ]\n",
      " [0.1875    0.8125   ]\n",
      " [0.25      0.75     ]\n",
      " [0.65625   0.34375  ]\n",
      " [0.875     0.125    ]\n",
      " [0.21875   0.78125  ]\n",
      " [0.8125    0.1875   ]\n",
      " [1.        0.       ]\n",
      " [0.09375   0.90625  ]\n",
      " [0.625     0.375    ]\n",
      " [0.53125   0.46875  ]\n",
      " [0.84375   0.15625  ]\n",
      " [0.875     0.125    ]\n",
      " [0.84375   0.15625  ]\n",
      " [0.9375    0.0625   ]\n",
      " [0.03125   0.96875  ]\n",
      " [0.0625    0.9375   ]\n",
      " [0.8125    0.1875   ]\n",
      " [0.09375   0.90625  ]\n",
      " [0.0625    0.9375   ]\n",
      " [0.84375   0.15625  ]\n",
      " [0.5625    0.4375   ]\n",
      " [0.09375   0.90625  ]\n",
      " [0.9375    0.0625   ]\n",
      " [0.        1.       ]\n",
      " [0.9375    0.0625   ]\n",
      " [0.03125   0.96875  ]\n",
      " [0.8125    0.1875   ]\n",
      " [0.78125   0.21875  ]\n",
      " [0.9375    0.0625   ]\n",
      " [0.9375    0.0625   ]\n",
      " [0.65625   0.34375  ]\n",
      " [0.25      0.75     ]\n",
      " [0.84375   0.15625  ]\n",
      " [0.1875    0.8125   ]\n",
      " [0.90625   0.09375  ]\n",
      " [0.09375   0.90625  ]\n",
      " [0.21875   0.78125  ]\n",
      " [1.        0.       ]\n",
      " [0.625     0.375    ]\n",
      " [0.34375   0.65625  ]\n",
      " [0.21875   0.78125  ]\n",
      " [0.53125   0.46875  ]\n",
      " [0.        1.       ]\n",
      " [1.        0.       ]\n",
      " [0.875     0.125    ]\n",
      " [0.25      0.75     ]\n",
      " [1.        0.       ]\n",
      " [0.1875    0.8125   ]\n",
      " [0.9375    0.0625   ]\n",
      " [0.8125    0.1875   ]\n",
      " [0.75      0.25     ]\n",
      " [0.96875   0.03125  ]\n",
      " [0.03125   0.96875  ]\n",
      " [0.34375   0.65625  ]\n",
      " [0.6875    0.3125   ]\n",
      " [0.65625   0.34375  ]\n",
      " [0.875     0.125    ]\n",
      " [0.125     0.875    ]\n",
      " [0.625     0.375    ]\n",
      " [0.0625    0.9375   ]\n",
      " [0.8125    0.1875   ]\n",
      " [0.03125   0.96875  ]\n",
      " [0.875     0.125    ]\n",
      " [0.125     0.875    ]\n",
      " [0.5       0.5      ]\n",
      " [0.96875   0.03125  ]\n",
      " [0.65625   0.34375  ]\n",
      " [0.9375    0.0625   ]\n",
      " [0.96875   0.03125  ]\n",
      " [0.84375   0.15625  ]\n",
      " [0.21875   0.78125  ]\n",
      " [0.78125   0.21875  ]\n",
      " [0.90625   0.09375  ]\n",
      " [0.84375   0.15625  ]\n",
      " [0.84375   0.15625  ]\n",
      " [0.65625   0.34375  ]\n",
      " [0.65625   0.34375  ]\n",
      " [0.25      0.75     ]\n",
      " [0.0625    0.9375   ]\n",
      " [0.15625   0.84375  ]\n",
      " [0.03125   0.96875  ]\n",
      " [0.625     0.375    ]\n",
      " [0.5625    0.4375   ]\n",
      " [0.4375    0.5625   ]\n",
      " [0.71875   0.28125  ]\n",
      " [0.03125   0.96875  ]\n",
      " [1.        0.       ]\n",
      " [0.        1.       ]\n",
      " [0.3125    0.6875   ]\n",
      " [0.03125   0.96875  ]\n",
      " [0.9375    0.0625   ]\n",
      " [0.8125    0.1875   ]\n",
      " [0.8125    0.1875   ]\n",
      " [0.6875    0.3125   ]\n",
      " [0.5625    0.4375   ]\n",
      " [0.875     0.125    ]\n",
      " [0.84375   0.15625  ]\n",
      " [0.0625    0.9375   ]\n",
      " [0.875     0.125    ]\n",
      " [0.96875   0.03125  ]\n",
      " [0.875     0.125    ]\n",
      " [0.        1.       ]\n",
      " [0.09375   0.90625  ]\n",
      " [0.84375   0.15625  ]\n",
      " [0.71875   0.28125  ]\n",
      " [0.6875    0.3125   ]\n",
      " [0.5       0.5      ]\n",
      " [0.21875   0.78125  ]\n",
      " [0.78125   0.21875  ]\n",
      " [0.75      0.25     ]\n",
      " [0.96875   0.03125  ]\n",
      " [0.        1.       ]\n",
      " [0.3125    0.6875   ]\n",
      " [0.84375   0.15625  ]\n",
      " [0.15625   0.84375  ]\n",
      " [1.        0.       ]\n",
      " [0.96875   0.03125  ]\n",
      " [0.90625   0.09375  ]\n",
      " [1.        0.       ]\n",
      " [0.78125   0.21875  ]\n",
      " [0.28125   0.71875  ]\n",
      " [0.65625   0.34375  ]\n",
      " [0.1875    0.8125   ]\n",
      " [0.21875   0.78125  ]\n",
      " [0.96875   0.03125  ]\n",
      " [0.75      0.25     ]\n",
      " [0.71875   0.28125  ]\n",
      " [0.6875    0.3125   ]\n",
      " [0.59375   0.40625  ]\n",
      " [0.71875   0.28125  ]\n",
      " [0.6875    0.3125   ]\n",
      " [0.84375   0.15625  ]\n",
      " [0.5       0.5      ]\n",
      " [0.875     0.125    ]\n",
      " [0.90625   0.09375  ]\n",
      " [0.03125   0.96875  ]\n",
      " [0.6875    0.3125   ]\n",
      " [0.84375   0.15625  ]\n",
      " [0.84375   0.15625  ]\n",
      " [0.75      0.25     ]\n",
      " [0.59375   0.40625  ]\n",
      " [0.9375    0.0625   ]\n",
      " [0.84375   0.15625  ]\n",
      " [0.65625   0.34375  ]\n",
      " [0.125     0.875    ]\n",
      " [0.625     0.375    ]\n",
      " [0.28125   0.71875  ]\n",
      " [0.625     0.375    ]\n",
      " [0.375     0.625    ]\n",
      " [0.875     0.125    ]\n",
      " [0.78125   0.21875  ]\n",
      " [0.5625    0.4375   ]\n",
      " [0.65625   0.34375  ]\n",
      " [0.0625    0.9375   ]\n",
      " [0.1875    0.8125   ]\n",
      " [0.71875   0.28125  ]\n",
      " [1.        0.       ]\n",
      " [0.75      0.25     ]\n",
      " [0.9375    0.0625   ]\n",
      " [0.9375    0.0625   ]\n",
      " [0.71875   0.28125  ]\n",
      " [0.71875   0.28125  ]\n",
      " [0.78125   0.21875  ]\n",
      " [0.03125   0.96875  ]\n",
      " [0.90625   0.09375  ]\n",
      " [0.1875    0.8125   ]\n",
      " [0.96875   0.03125  ]\n",
      " [0.90625   0.09375  ]\n",
      " [0.90625   0.09375  ]\n",
      " [0.0625    0.9375   ]\n",
      " [0.78125   0.21875  ]\n",
      " [0.84375   0.15625  ]\n",
      " [0.4375    0.5625   ]\n",
      " [0.71875   0.28125  ]\n",
      " [0.8125    0.1875   ]\n",
      " [0.96875   0.03125  ]\n",
      " [1.        0.       ]\n",
      " [0.96875   0.03125  ]\n",
      " [0.34375   0.65625  ]\n",
      " [0.96875   0.03125  ]\n",
      " [0.75      0.25     ]\n",
      " [0.84375   0.15625  ]\n",
      " [0.03125   0.96875  ]\n",
      " [0.28125   0.71875  ]\n",
      " [0.21875   0.78125  ]\n",
      " [0.875     0.125    ]\n",
      " [0.15625   0.84375  ]\n",
      " [0.84375   0.15625  ]\n",
      " [0.        1.       ]\n",
      " [0.        1.       ]\n",
      " [1.        0.       ]\n",
      " [0.96875   0.03125  ]\n",
      " [1.        0.       ]\n",
      " [0.28125   0.71875  ]\n",
      " [0.28125   0.71875  ]\n",
      " [0.0625    0.9375   ]\n",
      " [0.59375   0.40625  ]\n",
      " [0.96875   0.03125  ]\n",
      " [0.21875   0.78125  ]\n",
      " [0.9375    0.0625   ]\n",
      " [0.        1.       ]\n",
      " [0.        1.       ]\n",
      " [0.65625   0.34375  ]\n",
      " [0.        1.       ]\n",
      " [0.625     0.375    ]\n",
      " [0.90625   0.09375  ]\n",
      " [0.5625    0.4375   ]\n",
      " [0.03125   0.96875  ]\n",
      " [0.71875   0.28125  ]\n",
      " [1.        0.       ]\n",
      " [0.        1.       ]\n",
      " [0.8125    0.1875   ]\n",
      " [0.78125   0.21875  ]\n",
      " [0.        1.       ]\n",
      " [0.        1.       ]\n",
      " [0.8125    0.1875   ]\n",
      " [1.        0.       ]\n",
      " [0.65625   0.34375  ]\n",
      " [0.90625   0.09375  ]\n",
      " [0.96875   0.03125  ]\n",
      " [0.90625   0.09375  ]\n",
      " [0.15625   0.84375  ]\n",
      " [0.1875    0.8125   ]\n",
      " [1.        0.       ]\n",
      " [0.125     0.875    ]\n",
      " [0.96875   0.03125  ]\n",
      " [0.875     0.125    ]\n",
      " [1.        0.       ]\n",
      " [0.90625   0.09375  ]\n",
      " [0.6875    0.3125   ]\n",
      " [0.03125   0.96875  ]\n",
      " [0.4375    0.5625   ]\n",
      " [0.875     0.125    ]\n",
      " [0.90625   0.09375  ]\n",
      " [0.03125   0.96875  ]\n",
      " [1.        0.       ]\n",
      " [0.03125   0.96875  ]\n",
      " [0.96875   0.03125  ]\n",
      " [0.96875   0.03125  ]\n",
      " [0.03125   0.96875  ]\n",
      " [0.9375    0.0625   ]\n",
      " [0.1875    0.8125   ]\n",
      " [0.6875    0.3125   ]\n",
      " [0.625     0.375    ]\n",
      " [0.46875   0.53125  ]\n",
      " [1.        0.       ]\n",
      " [0.84375   0.15625  ]\n",
      " [0.65625   0.34375  ]\n",
      " [0.09375   0.90625  ]\n",
      " [0.65625   0.34375  ]\n",
      " [0.09375   0.90625  ]\n",
      " [0.28125   0.71875  ]\n",
      " [0.5625    0.4375   ]\n",
      " [0.03125   0.96875  ]\n",
      " [0.9375    0.0625   ]\n",
      " [0.625     0.375    ]\n",
      " [0.34375   0.65625  ]]\n",
      "[1.        1.        1.        1.        1.        1.        1.\n",
      " 1.        1.        1.        1.        1.        1.        1.\n",
      " 1.        1.        1.        1.        1.        1.        1.\n",
      " 1.        0.96875   0.96875   0.96875   0.96875   0.96875   0.96875\n",
      " 0.96875   0.96875   0.96875   0.96875   0.96875   0.96875   0.96875\n",
      " 0.96875   0.96875   0.96875   0.96875   0.96875   0.96875   0.96875\n",
      " 0.96875   0.9375    0.9375    0.9375    0.9375    0.9375    0.9375\n",
      " 0.9375    0.9375    0.9375    0.9375    0.9375    0.9375    0.9375\n",
      " 0.90625   0.90625   0.90625   0.90625   0.90625   0.90625   0.90625\n",
      " 0.90625   0.90625   0.90625   0.90625   0.875     0.875     0.875\n",
      " 0.875     0.875     0.875     0.875     0.84375   0.84375   0.84375\n",
      " 0.84375   0.84375   0.84375   0.84375   0.84375   0.84375   0.84375\n",
      " 0.8125    0.8125    0.8125    0.8125    0.8125    0.8125    0.8125\n",
      " 0.8125    0.8125    0.78125   0.78125   0.78125   0.78125   0.78125\n",
      " 0.78125   0.78125   0.78125   0.78125   0.78125   0.78125   0.78125\n",
      " 0.78125   0.78125   0.75      0.75      0.75      0.75      0.75\n",
      " 0.75      0.71875   0.71875   0.71875   0.71875   0.71875   0.71875\n",
      " 0.71875   0.71875   0.71875   0.71875   0.6875    0.6875    0.6875\n",
      " 0.65625   0.65625   0.65625   0.65625   0.65625   0.65625   0.65625\n",
      " 0.625     0.625     0.625     0.59375   0.59375   0.5625    0.5625\n",
      " 0.5625    0.53125   0.53125   0.53125   0.53125   0.53125   0.5\n",
      " 0.5       0.5       0.5       0.5       0.5       0.46875   0.46875\n",
      " 0.46875   0.46875   0.4375    0.4375    0.4375    0.4375    0.4375\n",
      " 0.4375    0.4375    0.4375    0.4375    0.40625   0.40625   0.40625\n",
      " 0.40625   0.40625   0.40625   0.40625   0.40625   0.375     0.375\n",
      " 0.375     0.375     0.375     0.375     0.375     0.375     0.375\n",
      " 0.375     0.375     0.375     0.375     0.375     0.375     0.34375\n",
      " 0.34375   0.34375   0.34375   0.34375   0.34375   0.34375   0.34375\n",
      " 0.34375   0.34375   0.34375   0.34375   0.34375   0.34375   0.34375\n",
      " 0.34375   0.34375   0.34375   0.3390625 0.3125    0.3125    0.3125\n",
      " 0.3125    0.3125    0.3125    0.3125    0.3125    0.3125    0.3125\n",
      " 0.3125    0.28125   0.28125   0.28125   0.28125   0.28125   0.28125\n",
      " 0.28125   0.28125   0.28125   0.28125   0.28125   0.28125   0.28125\n",
      " 0.28125   0.28125   0.28125   0.25      0.25      0.25      0.25\n",
      " 0.25      0.25      0.25      0.25      0.25      0.21875   0.21875\n",
      " 0.21875   0.21875   0.21875   0.21875   0.21875   0.21875   0.21875\n",
      " 0.21875   0.21875   0.21875   0.21875   0.21875   0.1875    0.1875\n",
      " 0.1875    0.1875    0.1875    0.1875    0.1875    0.1875    0.1875\n",
      " 0.1875    0.1875    0.1875    0.1875    0.1875    0.1875    0.1875\n",
      " 0.15625   0.15625   0.15625   0.15625   0.15625   0.15625   0.15625\n",
      " 0.15625   0.15625   0.15625   0.15625   0.15625   0.15625   0.15625\n",
      " 0.15625   0.15625   0.15625   0.15625   0.15625   0.15625   0.15625\n",
      " 0.15625   0.15625   0.15625   0.15625   0.15625   0.15625   0.125\n",
      " 0.125     0.125     0.125     0.125     0.125     0.125     0.125\n",
      " 0.125     0.125     0.125     0.125     0.125     0.125     0.125\n",
      " 0.125     0.125     0.125     0.125     0.125     0.125     0.125\n",
      " 0.09375   0.09375   0.09375   0.09375   0.09375   0.09375   0.09375\n",
      " 0.09375   0.09375   0.09375   0.09375   0.09375   0.09375   0.09375\n",
      " 0.09375   0.09375   0.09375   0.09375   0.09375   0.09375   0.0625\n",
      " 0.0625    0.0625    0.0625    0.0625    0.0625    0.0625    0.0625\n",
      " 0.0625    0.0625    0.0625    0.0625    0.0625    0.0625    0.0625\n",
      " 0.0625    0.0625    0.0625    0.0625    0.0625    0.0625    0.0625\n",
      " 0.0625    0.0625    0.0625    0.03125   0.03125   0.03125   0.03125\n",
      " 0.03125   0.03125   0.03125   0.03125   0.03125   0.03125   0.03125\n",
      " 0.03125   0.03125   0.03125   0.03125   0.03125   0.03125   0.03125\n",
      " 0.03125   0.03125   0.03125   0.03125   0.03125   0.03125   0.03125\n",
      " 0.03125   0.03125   0.03125   0.        0.        0.        0.\n",
      " 0.        0.        0.        0.        0.        0.        0.\n",
      " 0.        0.        0.        0.        0.        0.        0.\n",
      " 0.        0.        0.        0.       ]\n"
     ]
    }
   ],
   "source": [
    "# Predicting & probability predicting\n",
    "test_pred = clf.predict(X_pred)\n",
    "test_proba = clf.predict_proba(X_pred)\n",
    "print test_pred\n",
    "print test_proba\n",
    "survived = test_proba[:,1]\n",
    "survived[::-1].sort()\n",
    "print survived"
   ]
  }
 ],
 "metadata": {
  "kernelspec": {
   "display_name": "Python 2",
   "language": "python",
   "name": "python2"
  },
  "language_info": {
   "codemirror_mode": {
    "name": "ipython",
    "version": 2
   },
   "file_extension": ".py",
   "mimetype": "text/x-python",
   "name": "python",
   "nbconvert_exporter": "python",
   "pygments_lexer": "ipython2",
   "version": "2.7.14"
  }
 },
 "nbformat": 4,
 "nbformat_minor": 2
}
