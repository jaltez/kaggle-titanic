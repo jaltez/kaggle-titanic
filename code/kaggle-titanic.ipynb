{
 "cells": [
  {
   "cell_type": "markdown",
   "metadata": {},
   "source": [
    "# Kaggle's Titanic dataset classification"
   ]
  },
  {
   "cell_type": "markdown",
   "metadata": {},
   "source": [
    "## Initialization & imports"
   ]
  },
  {
   "cell_type": "code",
   "execution_count": 51,
   "metadata": {},
   "outputs": [],
   "source": [
    "import sys, itertools\n",
    "import numpy as np\n",
    "import pandas as pd\n",
    "import seaborn as sns\n",
    "import matplotlib.pyplot as plt\n",
    "\n",
    "from sklearn.preprocessing import StandardScaler\n",
    "from sklearn.decomposition import PCA\n",
    "from sklearn.model_selection import train_test_split, cross_val_score, GridSearchCV\n",
    "from sklearn.neighbors import KNeighborsClassifier, LocalOutlierFactor\n",
    "from sklearn.svm import SVC\n",
    "from sklearn.tree import DecisionTreeClassifier\n",
    "from sklearn.ensemble import RandomForestClassifier, AdaBoostClassifier, GradientBoostingClassifier\n",
    "from sklearn.naive_bayes import GaussianNB\n",
    "from sklearn.metrics import confusion_matrix, classification_report, roc_curve, auc\n",
    "\n",
    "from time import time\n",
    "\n",
    "from customhelpers import EstimatorSelectionHelper, plot_confusion_matrix\n",
    "\n",
    "from IPython.display import display, Markdown"
   ]
  },
  {
   "cell_type": "markdown",
   "metadata": {},
   "source": [
    "## Pandas & seaborn config"
   ]
  },
  {
   "cell_type": "code",
   "execution_count": 52,
   "metadata": {},
   "outputs": [],
   "source": [
    "pd.set_option('display.height', 1000)\n",
    "pd.set_option('display.max_columns', 500)\n",
    "pd.set_option('display.width', 1000)\n",
    "pd.set_option('chained_assignment', None)\n",
    "\n",
    "sns.set(style=\"dark\", palette=\"hls\")"
   ]
  },
  {
   "cell_type": "markdown",
   "metadata": {},
   "source": [
    "## Options"
   ]
  },
  {
   "cell_type": "code",
   "execution_count": 53,
   "metadata": {},
   "outputs": [],
   "source": [
    "opt_generate_plots            = False\n",
    "opt_get_pca_features          = False\n",
    "opt_estimate_best_classifier  = False\n",
    "opt_remove_outliers           = False\n",
    "opt_find_best_random_state    = False"
   ]
  },
  {
   "cell_type": "markdown",
   "metadata": {},
   "source": [
    "## Features & labels"
   ]
  },
  {
   "cell_type": "code",
   "execution_count": 54,
   "metadata": {},
   "outputs": [],
   "source": [
    "raw_features     = ['Age', 'SibSp', 'Parch', 'Fare', 'Embarked', 'Pclass', 'Sex', 'Cabin', 'Ticket', 'Name']\n",
    "labels           = ['Survived']\n",
    "datacolumns      = raw_features+labels"
   ]
  },
  {
   "cell_type": "markdown",
   "metadata": {},
   "source": [
    "## CSV Reading"
   ]
  },
  {
   "cell_type": "code",
   "execution_count": 55,
   "metadata": {},
   "outputs": [
    {
     "name": "stdout",
     "output_type": "stream",
     "text": [
      "Reading CSV...\n"
     ]
    }
   ],
   "source": [
    "print \"Reading CSV...\"\n",
    "df = pd.read_csv(\"../data/input/train.csv\")"
   ]
  },
  {
   "cell_type": "markdown",
   "metadata": {},
   "source": [
    "## Data exploration"
   ]
  },
  {
   "cell_type": "code",
   "execution_count": 56,
   "metadata": {},
   "outputs": [
    {
     "data": {
      "text/markdown": [
       "### Info"
      ],
      "text/plain": [
       "<IPython.core.display.Markdown object>"
      ]
     },
     "metadata": {},
     "output_type": "display_data"
    },
    {
     "name": "stdout",
     "output_type": "stream",
     "text": [
      "<class 'pandas.core.frame.DataFrame'>\n",
      "RangeIndex: 891 entries, 0 to 890\n",
      "Data columns (total 12 columns):\n",
      "PassengerId    891 non-null int64\n",
      "Survived       891 non-null int64\n",
      "Pclass         891 non-null int64\n",
      "Name           891 non-null object\n",
      "Sex            891 non-null object\n",
      "Age            714 non-null float64\n",
      "SibSp          891 non-null int64\n",
      "Parch          891 non-null int64\n",
      "Ticket         891 non-null object\n",
      "Fare           891 non-null float64\n",
      "Cabin          204 non-null object\n",
      "Embarked       889 non-null object\n",
      "dtypes: float64(2), int64(5), object(5)\n",
      "memory usage: 83.6+ KB\n",
      "None\n"
     ]
    },
    {
     "data": {
      "text/markdown": [
       "### Null counts"
      ],
      "text/plain": [
       "<IPython.core.display.Markdown object>"
      ]
     },
     "metadata": {},
     "output_type": "display_data"
    },
    {
     "name": "stdout",
     "output_type": "stream",
     "text": [
      "PassengerId      0\n",
      "Survived         0\n",
      "Pclass           0\n",
      "Name             0\n",
      "Sex              0\n",
      "Age            177\n",
      "SibSp            0\n",
      "Parch            0\n",
      "Ticket           0\n",
      "Fare             0\n",
      "Cabin          687\n",
      "Embarked         2\n",
      "dtype: int64\n"
     ]
    },
    {
     "data": {
      "text/markdown": [
       "### Describe"
      ],
      "text/plain": [
       "<IPython.core.display.Markdown object>"
      ]
     },
     "metadata": {},
     "output_type": "display_data"
    },
    {
     "name": "stdout",
     "output_type": "stream",
     "text": [
      "       PassengerId    Survived      Pclass         Age       SibSp       Parch        Fare\n",
      "count   891.000000  891.000000  891.000000  714.000000  891.000000  891.000000  891.000000\n",
      "mean    446.000000    0.383838    2.308642   29.699118    0.523008    0.381594   32.204208\n",
      "std     257.353842    0.486592    0.836071   14.526497    1.102743    0.806057   49.693429\n",
      "min       1.000000    0.000000    1.000000    0.420000    0.000000    0.000000    0.000000\n",
      "25%     223.500000    0.000000    2.000000   20.125000    0.000000    0.000000    7.910400\n",
      "50%     446.000000    0.000000    3.000000   28.000000    0.000000    0.000000   14.454200\n",
      "75%     668.500000    1.000000    3.000000   38.000000    1.000000    0.000000   31.000000\n",
      "max     891.000000    1.000000    3.000000   80.000000    8.000000    6.000000  512.329200\n"
     ]
    },
    {
     "data": {
      "text/markdown": [
       "### Sex counts"
      ],
      "text/plain": [
       "<IPython.core.display.Markdown object>"
      ]
     },
     "metadata": {},
     "output_type": "display_data"
    },
    {
     "name": "stdout",
     "output_type": "stream",
     "text": [
      "male      577\n",
      "female    314\n",
      "Name: Sex, dtype: int64\n"
     ]
    },
    {
     "data": {
      "text/markdown": [
       "### Cabin counts"
      ],
      "text/plain": [
       "<IPython.core.display.Markdown object>"
      ]
     },
     "metadata": {},
     "output_type": "display_data"
    },
    {
     "name": "stdout",
     "output_type": "stream",
     "text": [
      "?    687\n",
      "C     59\n",
      "B     47\n",
      "D     33\n",
      "E     32\n",
      "A     15\n",
      "F     13\n",
      "G      4\n",
      "T      1\n",
      "Name: Cabin, dtype: int64\n"
     ]
    },
    {
     "data": {
      "text/markdown": [
       "### Survived counts"
      ],
      "text/plain": [
       "<IPython.core.display.Markdown object>"
      ]
     },
     "metadata": {},
     "output_type": "display_data"
    },
    {
     "name": "stdout",
     "output_type": "stream",
     "text": [
      "0    549\n",
      "1    342\n",
      "Name: Survived, dtype: int64\n"
     ]
    },
    {
     "data": {
      "text/markdown": [
       "### Embarked counts"
      ],
      "text/plain": [
       "<IPython.core.display.Markdown object>"
      ]
     },
     "metadata": {},
     "output_type": "display_data"
    },
    {
     "name": "stdout",
     "output_type": "stream",
     "text": [
      "S    644\n",
      "C    168\n",
      "Q     77\n",
      "Name: Embarked, dtype: int64\n"
     ]
    },
    {
     "data": {
      "text/markdown": [
       "### Correlation"
      ],
      "text/plain": [
       "<IPython.core.display.Markdown object>"
      ]
     },
     "metadata": {},
     "output_type": "display_data"
    },
    {
     "name": "stdout",
     "output_type": "stream",
     "text": [
      "             PassengerId  Survived    Pclass       Age     SibSp     Parch      Fare\n",
      "PassengerId     1.000000 -0.005007 -0.035144  0.036847 -0.057527 -0.001652  0.012658\n",
      "Survived       -0.005007  1.000000 -0.338481 -0.077221 -0.035322  0.081629  0.257307\n",
      "Pclass         -0.035144 -0.338481  1.000000 -0.369226  0.083081  0.018443 -0.549500\n",
      "Age             0.036847 -0.077221 -0.369226  1.000000 -0.308247 -0.189119  0.096067\n",
      "SibSp          -0.057527 -0.035322  0.083081 -0.308247  1.000000  0.414838  0.159651\n",
      "Parch          -0.001652  0.081629  0.018443 -0.189119  0.414838  1.000000  0.216225\n",
      "Fare            0.012658  0.257307 -0.549500  0.096067  0.159651  0.216225  1.000000\n"
     ]
    }
   ],
   "source": [
    "display(Markdown(\"### Info\"))\n",
    "print df.info()\n",
    "display(Markdown(\"### Null counts\"))\n",
    "print df.isnull().sum(axis=0)\n",
    "display(Markdown(\"### Describe\"))\n",
    "print df.describe()\n",
    "display(Markdown(\"### Sex counts\"))\n",
    "print df['Sex'].dropna().value_counts()\n",
    "display(Markdown(\"### Cabin counts\"))\n",
    "print df['Cabin'].fillna('?').apply(lambda x: x[0]).value_counts()\n",
    "display(Markdown(\"### Survived counts\"))\n",
    "print df['Survived'].dropna().value_counts()\n",
    "display(Markdown(\"### Embarked counts\"))\n",
    "print df['Embarked'].dropna().value_counts()\n",
    "display(Markdown(\"### Correlation\"))\n",
    "print df.corr()"
   ]
  },
  {
   "cell_type": "markdown",
   "metadata": {},
   "source": [
    "## Histogram"
   ]
  },
  {
   "cell_type": "code",
   "execution_count": 57,
   "metadata": {},
   "outputs": [
    {
     "data": {
      "image/png": "[encoded data removed]",
      "text/plain": [
       "<matplotlib.figure.Figure at 0x11373550>"
      ]
     },
     "metadata": {},
     "output_type": "display_data"
    }
   ],
   "source": [
    "fig, axes = plt.subplots(2,3,figsize=(15,6))\n",
    "for ax, feature in itertools.izip_longest(axes.flatten(), ['Pclass', 'Age', 'SibSp', 'Parch', 'Fare','Embarked']):\n",
    "    if(feature):\n",
    "        ax.hist(df.dropna()[feature])\n",
    "        ax.set_title(feature)"
   ]
  },
  {
   "cell_type": "markdown",
   "metadata": {},
   "source": [
    "## Analysis plots (optional)"
   ]
  },
  {
   "cell_type": "code",
   "execution_count": 58,
   "metadata": {},
   "outputs": [],
   "source": [
    "if(opt_generate_plots):\n",
    "    print \"\\n> Creating plots\"\n",
    "    fg = sns.FacetGrid(df, hue=\"Survived\", size=5, aspect=1.61)\n",
    "    fg.map(plt.scatter, \"Age\", \"Fare\")\n",
    "    fg.add_legend()\n",
    "    fg.savefig(\"../data/output/age_fare_survived.png\")\n",
    "\n",
    "    fg = sns.FacetGrid(df, hue=\"Pclass\", size=5, aspect=1.61)\n",
    "    fg.map(plt.scatter, \"Age\", \"Fare\")\n",
    "    fg.add_legend()\n",
    "    fg.savefig(\"../data/output/age_fare_pclass.png\")\n",
    "\n",
    "    # Boxplot\n",
    "    df[datacolumns].plot(kind='box', subplots=True, layout=(2, 5), figsize=(14, 12), sharex=False, sharey=False, sym=\"bo\")\n",
    "    plt.savefig(\"../data/output/univariate.png\")\n",
    "\n",
    "    # Pairplots\n",
    "    sns_plot = sns.pairplot(df[datacolumns].dropna(), size=5, hue=\"Survived\")\n",
    "    sns_plot.savefig(\"../data/output/pairplot.png\")\n",
    "    print \"Saved to file\""
   ]
  },
  {
   "cell_type": "markdown",
   "metadata": {},
   "source": [
    "## Dataframe process function"
   ]
  },
  {
   "cell_type": "code",
   "execution_count": 59,
   "metadata": {},
   "outputs": [],
   "source": [
    "def processDataFrame(df):\n",
    "\n",
    "    def processTicket(ticket):\n",
    "        ticket = ticket.split(' ')[-1]\n",
    "        return int(ticket) if ticket.isdigit() else 0\n",
    "\n",
    "    scale_features  = ['Age', 'SibSp', 'Parch', 'Fare', 'Ticket']\n",
    "    encode_features = ['Embarked','Pclass','Sex', 'Cabin', 'Name']# , 'Ticket'\n",
    "\n",
    "    # NaN filling\n",
    "    df['Age'].fillna(df['Age'].median(), inplace=True)\n",
    "    df['Embarked'].fillna(df['Embarked'].mode(), inplace=True)\n",
    "    df['Cabin'].fillna('Unknown', inplace=True)\n",
    "    \n",
    "    # Feature editing\n",
    "    df['Cabin']  = df['Cabin'].apply(lambda x: x[0])\n",
    "    df['Name']   = df['Name'].apply(lambda x: x.split(',')[1].split('.')[0].strip())\n",
    "    df['Ticket'] = df['Ticket'].apply(processTicket)\n",
    "\n",
    "    # One-hot encoding\n",
    "    pre_features = df.columns.values\n",
    "    df = pd.get_dummies(df, columns=encode_features)\n",
    "    post_features = df.columns.values\n",
    "    diff_features = list(set(post_features) - set(pre_features))\n",
    "\n",
    "    # Drop other NaNs\n",
    "    df = df.dropna()\n",
    "\n",
    "    # Standarization\n",
    "    scaler = StandardScaler()\n",
    "    df[scale_features+diff_features] = scaler.fit_transform(df[scale_features+diff_features].as_matrix())\n",
    "\n",
    "    # PCA\n",
    "    if(opt_get_pca_features):\n",
    "        pca = PCA(n_components=3)\n",
    "        components = pca.fit_transform(df)\n",
    "        df = pd.DataFrame(components, columns=[\"col\" + str(n) for n in xrange(pca.n_components_)])\n",
    "\n",
    "    return df"
   ]
  },
  {
   "cell_type": "markdown",
   "metadata": {},
   "source": [
    "## Preprocess"
   ]
  },
  {
   "cell_type": "code",
   "execution_count": 60,
   "metadata": {},
   "outputs": [
    {
     "name": "stdout",
     "output_type": "stream",
     "text": [
      "Processing DataFrame...\n"
     ]
    }
   ],
   "source": [
    "print \"Processing DataFrame...\"\n",
    "df = processDataFrame(df[datacolumns])\n",
    "y  = df[labels]\n",
    "X  = df.drop(columns=labels)"
   ]
  },
  {
   "cell_type": "markdown",
   "metadata": {},
   "source": [
    "## Outlier removal (optional)"
   ]
  },
  {
   "cell_type": "code",
   "execution_count": 61,
   "metadata": {},
   "outputs": [],
   "source": [
    "if(opt_remove_outliers):\n",
    "    lof = LocalOutlierFactor(n_neighbors=5)\n",
    "    outliers = lof.fit_predict(X)\n",
    "    print \"Removing %i outliers\" % np.count_nonzero(outliers==-1)\n",
    "    X = X[outliers==1]\n",
    "    y = y[outliers==1]"
   ]
  },
  {
   "cell_type": "markdown",
   "metadata": {},
   "source": [
    "## Splitting"
   ]
  },
  {
   "cell_type": "code",
   "execution_count": 62,
   "metadata": {},
   "outputs": [],
   "source": [
    "X_train, X_test, y_train, y_test = train_test_split(X, y, test_size=0.20, random_state=42)"
   ]
  },
  {
   "cell_type": "markdown",
   "metadata": {},
   "source": [
    "## Estimation of best classifier and best parameters (optional)"
   ]
  },
  {
   "cell_type": "code",
   "execution_count": 63,
   "metadata": {},
   "outputs": [],
   "source": [
    "if(opt_estimate_best_classifier):\n",
    "    t0 = time()\n",
    "    print \"\\n> Estimation of best classifier and best parameters...\"\n",
    "\n",
    "    classifiers = {\n",
    "        'KNeighborsClassifier': KNeighborsClassifier(),\n",
    "        'SVC': SVC(),\n",
    "        'DecisionTreeClassifier': DecisionTreeClassifier(),\n",
    "        'RandomForestClassifier': RandomForestClassifier(),\n",
    "        'AdaBoostClassifier': AdaBoostClassifier(),\n",
    "        'GradientBoostingClassifier': GradientBoostingClassifier(),\n",
    "        'GaussianNB': GaussianNB()\n",
    "    }\n",
    "\n",
    "    hyperparameters = {\n",
    "        'KNeighborsClassifier': { 'n_neighbors': [2,5,10,15] },\n",
    "        'SVC': [\n",
    "            { 'kernel': ['linear'], 'C': [0.1, 1, 100, 1000], 'gamma': [0.0001, 0.001, 0.01, 0.1] },\n",
    "            { 'kernel': ['rbf'], 'C': [0.1, 1, 100, 1000], 'gamma': [0.0001, 0.001, 0.01, 0.1] },\n",
    "        ],\n",
    "        'DecisionTreeClassifier': { 'min_samples_split': [2,5,10,100] },\n",
    "        'RandomForestClassifier': { 'n_estimators': [16, 32, 64, 100, 200] },\n",
    "        'AdaBoostClassifier': { 'n_estimators': [32, 64, 100, 200], 'learning_rate': [0.8, 1.0] },\n",
    "        'GradientBoostingClassifier': { 'n_estimators': [32, 64, 100, 200], 'learning_rate': [0.8, 1.0] },\n",
    "        'GaussianNB': { }\n",
    "    }\n",
    "\n",
    "    estimator = EstimatorSelectionHelper(classifiers, hyperparameters)\n",
    "    estimator.fit(X_train, y_train.values.ravel(), scoring='accuracy', verbose=1)\n",
    "    print \"(done in %0.3fs)\" % (time() - t0)\n",
    "\n",
    "    print estimator.score_summary(sort_by='min_score')"
   ]
  },
  {
   "cell_type": "markdown",
   "metadata": {},
   "source": [
    "## Find best random state for random forest (optional)"
   ]
  },
  {
   "cell_type": "code",
   "execution_count": 64,
   "metadata": {},
   "outputs": [],
   "source": [
    "if(opt_find_best_random_state):\n",
    "    for i in xrange(1,256):\n",
    "        clf = RandomForestClassifier(n_estimators=32, random_state=i)\n",
    "        clf.fit(X_train, y_train.values.ravel())\n",
    "        sco = clf.score(X_test, y_test)\n",
    "        if(sco > 0.85):\n",
    "            print \"Classifier accuracy random_state=%i:\" % i, sco"
   ]
  },
  {
   "cell_type": "markdown",
   "metadata": {},
   "source": [
    "## Random Forest classifier training + predictions & score + cross validation"
   ]
  },
  {
   "cell_type": "code",
   "execution_count": 65,
   "metadata": {},
   "outputs": [
    {
     "name": "stdout",
     "output_type": "stream",
     "text": [
      "Training classifier...\n",
      "- Selected classifier accuracy: 0.8603351955307262\n",
      "Computing cross validated scores...\n",
      "- Cross validated accuracy: 0.82 (+/- 0.04) [0.82122905 0.80446927 0.84831461 0.79775281 0.85310734]\n"
     ]
    }
   ],
   "source": [
    "print \"Training classifier...\"\n",
    "clf = RandomForestClassifier(n_estimators=32, random_state=181) # Best accuracy: 0.860335195531\n",
    "clf.fit(X_train, y_train.values.ravel())\n",
    "score = clf.score(X_test, y_test)\n",
    "print \"- Selected classifier accuracy:\", score\n",
    "\n",
    "print \"Computing cross validated scores...\"\n",
    "scores = cross_val_score(clf, X, y.values.ravel(), cv=5)\n",
    "print \"- Cross validated accuracy: %0.2f (+/- %0.2f)\" % (scores.mean(), scores.std() * 2), scores\n",
    "\n",
    "y_pred = clf.predict(X_test)"
   ]
  },
  {
   "cell_type": "markdown",
   "metadata": {},
   "source": [
    "## Confusion matrix (optional)"
   ]
  },
  {
   "cell_type": "code",
   "execution_count": 66,
   "metadata": {},
   "outputs": [
    {
     "name": "stdout",
     "output_type": "stream",
     "text": [
      "Confusion matrix, without normalization\n",
      "[[96  9]\n",
      " [16 58]]\n"
     ]
    },
    {
     "data": {
      "image/png": "[encoded data removed]",
      "text/plain": [
       "<matplotlib.figure.Figure at 0x1026d668>"
      ]
     },
     "metadata": {},
     "output_type": "display_data"
    }
   ],
   "source": [
    "cnf_matrix = confusion_matrix(y_test, y_pred)\n",
    "plot_confusion_matrix(cnf_matrix, classes=['Survived','Not Survived'], title='Confusion matrix, without normalization')"
   ]
  },
  {
   "cell_type": "markdown",
   "metadata": {},
   "source": [
    "## Classification report"
   ]
  },
  {
   "cell_type": "code",
   "execution_count": 67,
   "metadata": {
    "scrolled": false
   },
   "outputs": [
    {
     "name": "stdout",
     "output_type": "stream",
     "text": [
      "             precision    recall  f1-score   support\n",
      "\n",
      "          0       0.86      0.91      0.88       105\n",
      "          1       0.87      0.78      0.82        74\n",
      "\n",
      "avg / total       0.86      0.86      0.86       179\n",
      "\n"
     ]
    }
   ],
   "source": [
    "print classification_report(y_test, y_pred)"
   ]
  },
  {
   "cell_type": "markdown",
   "metadata": {},
   "source": [
    "## Feature importance"
   ]
  },
  {
   "cell_type": "code",
   "execution_count": 68,
   "metadata": {},
   "outputs": [
    {
     "data": {
      "image/png": "[encoded data removed]",
      "text/plain": [
       "<matplotlib.figure.Figure at 0xeae7940>"
      ]
     },
     "metadata": {},
     "output_type": "display_data"
    }
   ],
   "source": [
    "plt.figure(figsize=(10,10))\n",
    "plt.barh(range(len(clf.feature_importances_)), clf.feature_importances_, tick_label=X_test.columns.values)\n",
    "plt.show()"
   ]
  },
  {
   "cell_type": "markdown",
   "metadata": {},
   "source": [
    "## Histogram of Residuals"
   ]
  },
  {
   "cell_type": "code",
   "execution_count": 69,
   "metadata": {},
   "outputs": [
    {
     "data": {
      "image/png": "[encoded data removed]",
      "text/plain": [
       "<matplotlib.figure.Figure at 0xd99c5c0>"
      ]
     },
     "metadata": {},
     "output_type": "display_data"
    }
   ],
   "source": [
    "plt.hist(y_pred - y_test.values.ravel(), bins=50)\n",
    "plt.title(\"Histogram of Residuals.\")\n",
    "plt.show()"
   ]
  },
  {
   "cell_type": "markdown",
   "metadata": {},
   "source": [
    "## Compute ROC curve and AUC"
   ]
  },
  {
   "cell_type": "code",
   "execution_count": 70,
   "metadata": {},
   "outputs": [
    {
     "data": {
      "image/png": "[encoded data removed]",
      "text/plain": [
       "<matplotlib.figure.Figure at 0x1186ad30>"
      ]
     },
     "metadata": {},
     "output_type": "display_data"
    }
   ],
   "source": [
    "y_pred_proba = clf.predict_proba(X_test)[::,1]\n",
    "false_positive_rate, true_positive_rate, thresholds = roc_curve(y_test, y_pred_proba)\n",
    "roc_auc = auc(false_positive_rate, true_positive_rate)\n",
    "\n",
    "plt.title('Receiver Operating Characteristic')\n",
    "plt.plot(false_positive_rate, true_positive_rate, 'b', label='AUC = %0.2f'% roc_auc)\n",
    "plt.legend(loc='lower right')\n",
    "plt.plot([0,1],[0,1],'r--')\n",
    "plt.xlim([0,1])\n",
    "plt.ylim([0,1])\n",
    "plt.ylabel('True Positive Rate')\n",
    "plt.xlabel('False Positive Rate')\n",
    "plt.show()"
   ]
  },
  {
   "cell_type": "markdown",
   "metadata": {},
   "source": [
    "## Predicting new data"
   ]
  },
  {
   "cell_type": "code",
   "execution_count": 71,
   "metadata": {},
   "outputs": [
    {
     "name": "stdout",
     "output_type": "stream",
     "text": [
      "Reading test CSV...\n"
     ]
    }
   ],
   "source": [
    "print \"Reading test CSV...\"\n",
    "df_pred = pd.read_csv(\"../data/input/test.csv\")"
   ]
  },
  {
   "cell_type": "markdown",
   "metadata": {},
   "source": [
    "## Preprocessing with feature diff & intersection"
   ]
  },
  {
   "cell_type": "code",
   "execution_count": 72,
   "metadata": {},
   "outputs": [],
   "source": [
    "features = X.columns.values\n",
    "X_pred = processDataFrame(df_pred[raw_features])\n",
    "pred_features = X_pred.columns.values\n",
    "features_to_add = [f for f in features if f not in pred_features]\n",
    "colvalues = dict.fromkeys(features_to_add, 0)\n",
    "X_pred = X_pred.assign(**colvalues)\n",
    "X_pred = X_pred[features]"
   ]
  },
  {
   "cell_type": "markdown",
   "metadata": {},
   "source": [
    "## Predictions & probability on the new data"
   ]
  },
  {
   "cell_type": "code",
   "execution_count": 73,
   "metadata": {},
   "outputs": [
    {
     "name": "stdout",
     "output_type": "stream",
     "text": [
      "Predicting 417 samples...\n",
      "* Survived: 146\n",
      "* Not-Survived: 271\n",
      "* Survived with probability beyond 80%: 93\n"
     ]
    },
    {
     "data": {
      "image/png": "[encoded data removed]",
      "text/plain": [
       "<matplotlib.figure.Figure at 0x11b35b70>"
      ]
     },
     "metadata": {},
     "output_type": "display_data"
    }
   ],
   "source": [
    "print \"Predicting %i samples...\" % X_pred.shape[0]\n",
    "test_pred = clf.predict(X_pred)\n",
    "test_proba = clf.predict_proba(X_pred)\n",
    "print \"* Survived:\", np.count_nonzero(test_pred==1)\n",
    "print \"* Not-Survived:\", np.count_nonzero(test_pred==0)\n",
    "survived = test_proba[:,1]\n",
    "plt.hist(survived)\n",
    "plt.title(\"Survived histogram\")\n",
    "print \"* Survived with probability beyond 80%:\", np.count_nonzero(survived > 0.8)"
   ]
  }
 ],
 "metadata": {
  "kernelspec": {
   "display_name": "Python 2",
   "language": "python",
   "name": "python2"
  },
  "language_info": {
   "codemirror_mode": {
    "name": "ipython",
    "version": 2
   },
   "file_extension": ".py",
   "mimetype": "text/x-python",
   "name": "python",
   "nbconvert_exporter": "python",
   "pygments_lexer": "ipython2",
   "version": "2.7.14"
  }
 },
 "nbformat": 4,
 "nbformat_minor": 2
}
